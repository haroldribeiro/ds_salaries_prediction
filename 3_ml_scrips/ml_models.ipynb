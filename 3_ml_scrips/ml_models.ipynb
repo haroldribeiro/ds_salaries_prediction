{
 "cells": [
  {
   "cell_type": "markdown",
   "id": "6385bff7-c823-45fd-8022-891e4466847a",
   "metadata": {},
   "source": [
    "# Libraries"
   ]
  },
  {
   "cell_type": "code",
   "execution_count": 1,
   "id": "44087a8b-1ca9-4b7a-b11a-91fc20aee6ea",
   "metadata": {},
   "outputs": [],
   "source": [
    "# general\n",
    "import pandas as pd\n",
    "import numpy as np\n",
    "import matplotlib.pyplot as plt\n",
    "import warnings\n",
    "warnings.filterwarnings('ignore')\n",
    "# Scikit stuff\n",
    "from sklearn.linear_model import LinearRegression, Lasso, Ridge, ElasticNet\n",
    "from sklearn.tree import DecisionTreeRegressor\n",
    "from sklearn.ensemble import RandomForestRegressor, GradientBoostingRegressor\n",
    "from sklearn.model_selection import cross_val_score, KFold, GridSearchCV, RandomizedSearchCV, train_test_split\n",
    "from sklearn.preprocessing import PolynomialFeatures, StandardScaler\n",
    "from sklearn.svm import SVR\n",
    "from sklearn import metrics\n",
    "# Gradint Bossting\n",
    "from xgboost import XGBRegressor\n",
    "# Neural network\n",
    "from tensorflow.keras.models import Sequential\n",
    "from tensorflow.keras.layers import Dense, Input, Dropout, Flatten, LeakyReLU"
   ]
  },
  {
   "cell_type": "markdown",
   "id": "06403606-ba28-4c65-b52e-762af24d2549",
   "metadata": {},
   "source": [
    "# Datasets"
   ]
  },
  {
   "cell_type": "code",
   "execution_count": 2,
   "id": "5e986e04-37d1-48c3-8362-1060527e9e20",
   "metadata": {},
   "outputs": [],
   "source": [
    "with open('../0_data/3_abt_data/abt_train.csv', mode='r') as f:\n",
    "    df_train = pd.read_csv(f, delimiter=',')"
   ]
  },
  {
   "cell_type": "code",
   "execution_count": 3,
   "id": "62732a2b",
   "metadata": {},
   "outputs": [],
   "source": [
    "with open('../0_data/3_abt_data/abt_ott.csv', mode='r') as f:\n",
    "    df_oot = pd.read_csv(f, delimiter=',')"
   ]
  },
  {
   "cell_type": "code",
   "execution_count": 4,
   "id": "2da72490",
   "metadata": {},
   "outputs": [],
   "source": [
    "#unifying dataframes\n",
    "df = pd.concat([df_train, df_oot])\n",
    "# deleting former dataframes\n",
    "del df_train, df_oot"
   ]
  },
  {
   "cell_type": "code",
   "execution_count": 5,
   "id": "6ef3754e",
   "metadata": {},
   "outputs": [
    {
     "data": {
      "text/plain": [
       "(1442, 22)"
      ]
     },
     "execution_count": 5,
     "metadata": {},
     "output_type": "execute_result"
    }
   ],
   "source": [
    "df.shape"
   ]
  },
  {
   "cell_type": "markdown",
   "id": "babce0ef-0709-4a3e-bcf7-0dbd78b86f05",
   "metadata": {},
   "source": [
    "removing uncessery columns"
   ]
  },
  {
   "cell_type": "code",
   "execution_count": 6,
   "id": "98660490-ceef-4e42-815c-bcb9341ae361",
   "metadata": {},
   "outputs": [],
   "source": [
    "df.drop(columns=['nome_empresa','cidade','industria'], inplace=True)"
   ]
  },
  {
   "cell_type": "code",
   "execution_count": 7,
   "id": "99be4b3d",
   "metadata": {},
   "outputs": [
    {
     "data": {
      "text/plain": [
       "(1442, 19)"
      ]
     },
     "execution_count": 7,
     "metadata": {},
     "output_type": "execute_result"
    }
   ],
   "source": [
    "df.shape"
   ]
  },
  {
   "cell_type": "code",
   "execution_count": 8,
   "id": "70293e64-67ba-40b6-b4e0-acb2751652d2",
   "metadata": {},
   "outputs": [
    {
     "data": {
      "text/html": [
       "<div>\n",
       "<style scoped>\n",
       "    .dataframe tbody tr th:only-of-type {\n",
       "        vertical-align: middle;\n",
       "    }\n",
       "\n",
       "    .dataframe tbody tr th {\n",
       "        vertical-align: top;\n",
       "    }\n",
       "\n",
       "    .dataframe thead th {\n",
       "        text-align: right;\n",
       "    }\n",
       "</style>\n",
       "<table border=\"1\" class=\"dataframe\">\n",
       "  <thead>\n",
       "    <tr style=\"text-align: right;\">\n",
       "      <th></th>\n",
       "      <th>vaga_simplificada</th>\n",
       "      <th>senioridade</th>\n",
       "      <th>tamanho</th>\n",
       "      <th>tipo_propriedade</th>\n",
       "      <th>setor</th>\n",
       "      <th>receita</th>\n",
       "      <th>estado</th>\n",
       "      <th>idade_empresa</th>\n",
       "      <th>nota</th>\n",
       "      <th>fg_glassdor_est</th>\n",
       "      <th>fg_por_hora</th>\n",
       "      <th>descricao_qtd_palavras</th>\n",
       "      <th>estatistica</th>\n",
       "      <th>programacao</th>\n",
       "      <th>etl</th>\n",
       "      <th>saas</th>\n",
       "      <th>ferramentas_bi</th>\n",
       "      <th>ml_ai</th>\n",
       "      <th>salario_medio</th>\n",
       "    </tr>\n",
       "  </thead>\n",
       "  <tbody>\n",
       "    <tr>\n",
       "      <th>0</th>\n",
       "      <td>Data Scientist</td>\n",
       "      <td>Unknown</td>\n",
       "      <td>10000+ Employees</td>\n",
       "      <td>Company - Public</td>\n",
       "      <td>Telecommunications</td>\n",
       "      <td>$10+ billion (USD)</td>\n",
       "      <td>VA</td>\n",
       "      <td>21.0</td>\n",
       "      <td>3.9</td>\n",
       "      <td>1</td>\n",
       "      <td>0</td>\n",
       "      <td>133</td>\n",
       "      <td>0</td>\n",
       "      <td>0</td>\n",
       "      <td>0</td>\n",
       "      <td>0</td>\n",
       "      <td>0</td>\n",
       "      <td>0</td>\n",
       "      <td>114500.0</td>\n",
       "    </tr>\n",
       "    <tr>\n",
       "      <th>1</th>\n",
       "      <td>Data Scientist</td>\n",
       "      <td>Unknown</td>\n",
       "      <td>1001 to 5000 Employees</td>\n",
       "      <td>Company - Private</td>\n",
       "      <td>Aerospace &amp; Defense</td>\n",
       "      <td>$1 to $2 billion (USD)</td>\n",
       "      <td>VA</td>\n",
       "      <td>20.0</td>\n",
       "      <td>3.8</td>\n",
       "      <td>1</td>\n",
       "      <td>0</td>\n",
       "      <td>150</td>\n",
       "      <td>0</td>\n",
       "      <td>0</td>\n",
       "      <td>0</td>\n",
       "      <td>0</td>\n",
       "      <td>0</td>\n",
       "      <td>1</td>\n",
       "      <td>103000.0</td>\n",
       "    </tr>\n",
       "    <tr>\n",
       "      <th>2</th>\n",
       "      <td>Data Scientist</td>\n",
       "      <td>Unknown</td>\n",
       "      <td>501 to 1000 Employees</td>\n",
       "      <td>Company - Private</td>\n",
       "      <td>Insurance</td>\n",
       "      <td>$50 to $100 million (USD)</td>\n",
       "      <td>FL</td>\n",
       "      <td>98.0</td>\n",
       "      <td>4.7</td>\n",
       "      <td>1</td>\n",
       "      <td>0</td>\n",
       "      <td>124</td>\n",
       "      <td>0</td>\n",
       "      <td>0</td>\n",
       "      <td>0</td>\n",
       "      <td>0</td>\n",
       "      <td>0</td>\n",
       "      <td>0</td>\n",
       "      <td>103000.0</td>\n",
       "    </tr>\n",
       "  </tbody>\n",
       "</table>\n",
       "</div>"
      ],
      "text/plain": [
       "  vaga_simplificada senioridade                 tamanho   tipo_propriedade  \\\n",
       "0    Data Scientist     Unknown        10000+ Employees   Company - Public   \n",
       "1    Data Scientist     Unknown  1001 to 5000 Employees  Company - Private   \n",
       "2    Data Scientist     Unknown   501 to 1000 Employees  Company - Private   \n",
       "\n",
       "                 setor                    receita estado  idade_empresa  nota  \\\n",
       "0   Telecommunications         $10+ billion (USD)     VA           21.0   3.9   \n",
       "1  Aerospace & Defense     $1 to $2 billion (USD)     VA           20.0   3.8   \n",
       "2            Insurance  $50 to $100 million (USD)     FL           98.0   4.7   \n",
       "\n",
       "   fg_glassdor_est  fg_por_hora  descricao_qtd_palavras  estatistica  \\\n",
       "0                1            0                     133            0   \n",
       "1                1            0                     150            0   \n",
       "2                1            0                     124            0   \n",
       "\n",
       "   programacao  etl  saas  ferramentas_bi  ml_ai  salario_medio  \n",
       "0            0    0     0               0      0       114500.0  \n",
       "1            0    0     0               0      1       103000.0  \n",
       "2            0    0     0               0      0       103000.0  "
      ]
     },
     "execution_count": 8,
     "metadata": {},
     "output_type": "execute_result"
    }
   ],
   "source": [
    "df.head(3)"
   ]
  },
  {
   "cell_type": "markdown",
   "id": "b11f9046-7943-4b5b-9efe-e3be98df24ca",
   "metadata": {},
   "source": [
    "# Pre processing"
   ]
  },
  {
   "cell_type": "markdown",
   "id": "fc434270",
   "metadata": {},
   "source": [
    "### generating features "
   ]
  },
  {
   "cell_type": "code",
   "execution_count": 9,
   "id": "8a3e8f03-bc81-44e4-af58-89a24d312663",
   "metadata": {},
   "outputs": [],
   "source": [
    "# removing target variable\n",
    "x = df.drop('salario_medio', axis=1)"
   ]
  },
  {
   "cell_type": "code",
   "execution_count": 10,
   "id": "3d183fa3",
   "metadata": {},
   "outputs": [],
   "source": [
    "# generating target variable\n",
    "y = df.salario_medio.values"
   ]
  },
  {
   "cell_type": "markdown",
   "id": "31961eb1",
   "metadata": {},
   "source": [
    "### generating dummies"
   ]
  },
  {
   "cell_type": "code",
   "execution_count": 11,
   "id": "ab736e37-318d-4d7a-bad3-4a0e95fcb3b2",
   "metadata": {},
   "outputs": [],
   "source": [
    "# generating dummies\n",
    "x_dum = pd.get_dummies(x)"
   ]
  },
  {
   "cell_type": "markdown",
   "id": "2d6ad2ff",
   "metadata": {},
   "source": [
    "## transformation"
   ]
  },
  {
   "cell_type": "code",
   "execution_count": 12,
   "id": "16d9aa3f",
   "metadata": {},
   "outputs": [],
   "source": [
    "scaler = StandardScaler()\n"
   ]
  },
  {
   "cell_type": "code",
   "execution_count": 13,
   "id": "1a237c51",
   "metadata": {},
   "outputs": [
    {
     "data": {
      "text/plain": [
       "StandardScaler()"
      ]
     },
     "execution_count": 13,
     "metadata": {},
     "output_type": "execute_result"
    }
   ],
   "source": [
    "scaler.fit(x_dum)"
   ]
  },
  {
   "cell_type": "code",
   "execution_count": 14,
   "id": "f76ddffe",
   "metadata": {},
   "outputs": [],
   "source": [
    "x_dum_scaler = scaler.transform(x_dum)"
   ]
  },
  {
   "cell_type": "markdown",
   "id": "5b827b19-8542-4355-a520-20321f51d8eb",
   "metadata": {},
   "source": [
    "# Evaluation Models\n",
    "  \n",
    "\n",
    " \n"
   ]
  },
  {
   "cell_type": "markdown",
   "id": "906eb45e",
   "metadata": {},
   "source": [
    "## Lasso regression"
   ]
  },
  {
   "cell_type": "code",
   "execution_count": 15,
   "id": "b6abb01f",
   "metadata": {},
   "outputs": [],
   "source": [
    "ls_r = Lasso()"
   ]
  },
  {
   "cell_type": "code",
   "execution_count": 16,
   "id": "99543cae",
   "metadata": {},
   "outputs": [],
   "source": [
    "scores_ls_r = cross_val_score(ls_r, x_dum_scaler, y, n_jobs=4, cv=10, verbose=False, scoring='neg_mean_absolute_error')"
   ]
  },
  {
   "cell_type": "code",
   "execution_count": 17,
   "id": "887aaaa5",
   "metadata": {},
   "outputs": [
    {
     "name": "stdout",
     "output_type": "stream",
     "text": [
      "MAE (Lasso Regression): 21,503.99\n"
     ]
    }
   ],
   "source": [
    "print(\"MAE (Lasso Regression): {:,.2f}\".format(abs(scores_ls_r.mean())))"
   ]
  },
  {
   "cell_type": "markdown",
   "id": "c0087114",
   "metadata": {},
   "source": [
    "## Ridge regression"
   ]
  },
  {
   "cell_type": "code",
   "execution_count": 18,
   "id": "170810a1",
   "metadata": {},
   "outputs": [],
   "source": [
    "rr = Ridge()"
   ]
  },
  {
   "cell_type": "code",
   "execution_count": 19,
   "id": "3af4c655",
   "metadata": {},
   "outputs": [],
   "source": [
    "scores_rr = cross_val_score(rr, x_dum_scaler, y, n_jobs=4, cv=10, verbose=False, scoring='neg_mean_absolute_error')"
   ]
  },
  {
   "cell_type": "code",
   "execution_count": 20,
   "id": "69411be2",
   "metadata": {},
   "outputs": [
    {
     "name": "stdout",
     "output_type": "stream",
     "text": [
      "MAE (Ridge Regression): 21,504.92\n"
     ]
    }
   ],
   "source": [
    "print(\"MAE (Ridge Regression): {:,.2f}\".format(abs(scores_rr.mean())))"
   ]
  },
  {
   "cell_type": "markdown",
   "id": "ddac3bbe",
   "metadata": {},
   "source": [
    "## Elastic Net"
   ]
  },
  {
   "cell_type": "code",
   "execution_count": 21,
   "id": "5007842c",
   "metadata": {},
   "outputs": [],
   "source": [
    "elastic_net = ElasticNet()"
   ]
  },
  {
   "cell_type": "code",
   "execution_count": 22,
   "id": "3440a9dc",
   "metadata": {},
   "outputs": [],
   "source": [
    "scores_elastic_net = cross_val_score(elastic_net, x_dum_scaler, y, n_jobs=4, cv=10, verbose=False, scoring='neg_mean_absolute_error')"
   ]
  },
  {
   "cell_type": "code",
   "execution_count": 23,
   "id": "30885480",
   "metadata": {},
   "outputs": [
    {
     "name": "stdout",
     "output_type": "stream",
     "text": [
      "MAE (Elastic Net): 20,631.54\n"
     ]
    }
   ],
   "source": [
    "print(\"MAE (Elastic Net): {:,.2f}\".format(abs(scores_elastic_net.mean())))"
   ]
  },
  {
   "cell_type": "markdown",
   "id": "4134ec49",
   "metadata": {},
   "source": [
    "# Support Vector Regressor (SVR)"
   ]
  },
  {
   "cell_type": "code",
   "execution_count": 24,
   "id": "96f8e521",
   "metadata": {},
   "outputs": [],
   "source": [
    "svr = SVR()"
   ]
  },
  {
   "cell_type": "code",
   "execution_count": 25,
   "id": "cd550487",
   "metadata": {},
   "outputs": [],
   "source": [
    "scores_svr = cross_val_score(svr, x_dum_scaler, y, n_jobs=4, cv=10, verbose=False, scoring='neg_mean_absolute_error')"
   ]
  },
  {
   "cell_type": "code",
   "execution_count": 26,
   "id": "990ea9b9",
   "metadata": {},
   "outputs": [
    {
     "name": "stdout",
     "output_type": "stream",
     "text": [
      "MAE (SVR): 19,963.94\n"
     ]
    }
   ],
   "source": [
    "print(\"MAE (SVR): {:,.2f}\".format(abs(scores_svr.mean())))"
   ]
  },
  {
   "cell_type": "markdown",
   "id": "5b671782",
   "metadata": {},
   "source": [
    "# Decision Tree Regressor"
   ]
  },
  {
   "cell_type": "code",
   "execution_count": 28,
   "id": "269dedd7",
   "metadata": {},
   "outputs": [],
   "source": [
    "dtr = DecisionTreeRegressor(random_state=135)"
   ]
  },
  {
   "cell_type": "code",
   "execution_count": 29,
   "id": "3ea84497",
   "metadata": {},
   "outputs": [],
   "source": [
    "scores_dtr = cross_val_score(dtr, x_dum_scaler, y, cv=10, verbose=False, scoring='neg_mean_absolute_error')"
   ]
  },
  {
   "cell_type": "code",
   "execution_count": 30,
   "id": "ae115426",
   "metadata": {},
   "outputs": [
    {
     "name": "stdout",
     "output_type": "stream",
     "text": [
      "MAE (Decision Tree): 26,015.77\n"
     ]
    }
   ],
   "source": [
    "print(\"MAE (Decision Tree): {:,.2f}\".format(abs(scores_dtr.mean())))"
   ]
  },
  {
   "cell_type": "markdown",
   "id": "05864ace",
   "metadata": {},
   "source": [
    "# Random Forest Regressor"
   ]
  },
  {
   "cell_type": "code",
   "execution_count": 31,
   "id": "bd247109",
   "metadata": {},
   "outputs": [],
   "source": [
    "rf = RandomForestRegressor(random_state=135)"
   ]
  },
  {
   "cell_type": "code",
   "execution_count": 32,
   "id": "897a07e0",
   "metadata": {},
   "outputs": [],
   "source": [
    "scores_rf = cross_val_score(rf, x_dum_scaler, y, cv=10, verbose=False, scoring='neg_mean_absolute_error')"
   ]
  },
  {
   "cell_type": "code",
   "execution_count": 33,
   "id": "075cfbf0",
   "metadata": {},
   "outputs": [
    {
     "name": "stdout",
     "output_type": "stream",
     "text": [
      "MAE (Random Forest): 20,892.22\n"
     ]
    }
   ],
   "source": [
    "print(\"MAE (Random Forest): {:,.2f}\".format(abs(scores_rf.mean())))"
   ]
  },
  {
   "cell_type": "markdown",
   "id": "c53787d0",
   "metadata": {},
   "source": [
    "# XGBoosting Regressor"
   ]
  },
  {
   "cell_type": "code",
   "execution_count": 34,
   "id": "d9572b09",
   "metadata": {},
   "outputs": [],
   "source": [
    "xgb = XGBRegressor(random_state=135)"
   ]
  },
  {
   "cell_type": "code",
   "execution_count": 35,
   "id": "5688582d",
   "metadata": {},
   "outputs": [],
   "source": [
    "scores_xgb = cross_val_score(xgb, x_dum_scaler, y, cv=10, verbose=False, scoring='neg_mean_absolute_error')"
   ]
  },
  {
   "cell_type": "code",
   "execution_count": 36,
   "id": "1fa703d4",
   "metadata": {},
   "outputs": [
    {
     "name": "stdout",
     "output_type": "stream",
     "text": [
      "MAE (XBG): 21,725.78\n"
     ]
    }
   ],
   "source": [
    "print(\"MAE (XBG): {:,.2f}\".format(abs(scores_xgb.mean())))"
   ]
  },
  {
   "cell_type": "markdown",
   "id": "bee6b795",
   "metadata": {},
   "source": [
    "# Neural Network"
   ]
  },
  {
   "cell_type": "code",
   "execution_count": 37,
   "id": "60034b74",
   "metadata": {
    "scrolled": true
   },
   "outputs": [
    {
     "name": "stderr",
     "output_type": "stream",
     "text": [
      "2022-03-12 21:39:22.712534: I tensorflow/core/platform/cpu_feature_guard.cc:151] This TensorFlow binary is optimized with oneAPI Deep Neural Network Library (oneDNN) to use the following CPU instructions in performance-critical operations:  AVX2 FMA\n",
      "To enable them in other operations, rebuild TensorFlow with the appropriate compiler flags.\n"
     ]
    }
   ],
   "source": [
    "model = Sequential()\n",
    "# Hidden layer\n",
    "model.add(Dense(256, input_dim=132, activation='relu'))\n",
    "model.add(Dropout(.20, seed=20))\n",
    "model.add(Dense(128, activation='relu'))\n",
    "model.add(Dropout(.20, seed=20))\n",
    "model.add(Dense(64, activation='relu'))\n",
    "model.add(Dropout(.20, seed=20))\n",
    "model.add(Dense(32, activation='relu'))\n",
    "model.add(Dropout(.20, seed=20))\n",
    "model.add(Flatten())\n",
    "# output layer\n",
    "model.add(Dense(1, activation='linear'))"
   ]
  },
  {
   "cell_type": "code",
   "execution_count": 38,
   "id": "6b229bf2",
   "metadata": {},
   "outputs": [
    {
     "name": "stdout",
     "output_type": "stream",
     "text": [
      "Model: \"sequential\"\n",
      "_________________________________________________________________\n",
      " Layer (type)                Output Shape              Param #   \n",
      "=================================================================\n",
      " dense (Dense)               (None, 256)               34048     \n",
      "                                                                 \n",
      " dropout (Dropout)           (None, 256)               0         \n",
      "                                                                 \n",
      " dense_1 (Dense)             (None, 128)               32896     \n",
      "                                                                 \n",
      " dropout_1 (Dropout)         (None, 128)               0         \n",
      "                                                                 \n",
      " dense_2 (Dense)             (None, 64)                8256      \n",
      "                                                                 \n",
      " dropout_2 (Dropout)         (None, 64)                0         \n",
      "                                                                 \n",
      " dense_3 (Dense)             (None, 32)                2080      \n",
      "                                                                 \n",
      " dropout_3 (Dropout)         (None, 32)                0         \n",
      "                                                                 \n",
      " flatten (Flatten)           (None, 32)                0         \n",
      "                                                                 \n",
      " dense_4 (Dense)             (None, 1)                 33        \n",
      "                                                                 \n",
      "=================================================================\n",
      "Total params: 77,313\n",
      "Trainable params: 77,313\n",
      "Non-trainable params: 0\n",
      "_________________________________________________________________\n"
     ]
    }
   ],
   "source": [
    "# compile model\n",
    "model.compile(loss='mean_squared_error', optimizer='rmsprop', metrics='mae')\n",
    "model.summary()"
   ]
  },
  {
   "cell_type": "code",
   "execution_count": 39,
   "id": "9ddaa02e",
   "metadata": {},
   "outputs": [
    {
     "name": "stdout",
     "output_type": "stream",
     "text": [
      "Epoch 1/100\n",
      "145/145 [==============================] - 1s 2ms/step - loss: 10751403008.0000 - mae: 101031.8516 - val_loss: 11611689984.0000 - val_mae: 102324.5234\n",
      "Epoch 2/100\n",
      "145/145 [==============================] - 0s 2ms/step - loss: 2736193280.0000 - mae: 42283.2031 - val_loss: 3757123072.0000 - val_mae: 49436.4805\n",
      "Epoch 3/100\n",
      "145/145 [==============================] - 0s 2ms/step - loss: 1513138816.0000 - mae: 29808.2539 - val_loss: 3014364160.0000 - val_mae: 43831.3906\n",
      "Epoch 4/100\n",
      "145/145 [==============================] - 0s 2ms/step - loss: 1233344896.0000 - mae: 26587.0645 - val_loss: 2651478528.0000 - val_mae: 41020.5312\n",
      "Epoch 5/100\n",
      "145/145 [==============================] - 0s 2ms/step - loss: 1094464256.0000 - mae: 25161.4590 - val_loss: 2259420160.0000 - val_mae: 37292.3789\n",
      "Epoch 6/100\n",
      "145/145 [==============================] - 0s 2ms/step - loss: 1001436224.0000 - mae: 23887.7012 - val_loss: 2609661696.0000 - val_mae: 41166.8633\n",
      "Epoch 7/100\n",
      "145/145 [==============================] - 0s 2ms/step - loss: 919313472.0000 - mae: 23136.7871 - val_loss: 1791629952.0000 - val_mae: 32636.1250\n",
      "Epoch 8/100\n",
      "145/145 [==============================] - 0s 2ms/step - loss: 904915392.0000 - mae: 22896.5234 - val_loss: 2155452160.0000 - val_mae: 37419.5742\n",
      "Epoch 9/100\n",
      "145/145 [==============================] - 0s 2ms/step - loss: 857550016.0000 - mae: 22206.4883 - val_loss: 1895822976.0000 - val_mae: 34857.5859\n",
      "Epoch 10/100\n",
      "145/145 [==============================] - 0s 2ms/step - loss: 816231104.0000 - mae: 21785.1152 - val_loss: 2111660672.0000 - val_mae: 37253.2188\n",
      "Epoch 11/100\n",
      "145/145 [==============================] - 0s 2ms/step - loss: 815299328.0000 - mae: 21770.4121 - val_loss: 2088063104.0000 - val_mae: 37116.3438\n",
      "Epoch 12/100\n",
      "145/145 [==============================] - 0s 2ms/step - loss: 829224960.0000 - mae: 22264.7734 - val_loss: 1968074624.0000 - val_mae: 35728.1562\n",
      "Epoch 13/100\n",
      "145/145 [==============================] - 0s 2ms/step - loss: 738254400.0000 - mae: 21118.0801 - val_loss: 1613042048.0000 - val_mae: 31840.6230\n",
      "Epoch 14/100\n",
      "145/145 [==============================] - 0s 2ms/step - loss: 755969216.0000 - mae: 21494.0234 - val_loss: 2008365952.0000 - val_mae: 36972.3438\n",
      "Epoch 15/100\n",
      "145/145 [==============================] - 0s 2ms/step - loss: 689858432.0000 - mae: 20440.2715 - val_loss: 1950643840.0000 - val_mae: 36478.3555\n",
      "Epoch 16/100\n",
      "145/145 [==============================] - 0s 2ms/step - loss: 660831552.0000 - mae: 19910.3535 - val_loss: 1647607680.0000 - val_mae: 33050.9570\n",
      "Epoch 17/100\n",
      "145/145 [==============================] - 0s 2ms/step - loss: 688351744.0000 - mae: 20426.6602 - val_loss: 1633449984.0000 - val_mae: 32998.8320\n",
      "Epoch 18/100\n",
      "145/145 [==============================] - 0s 2ms/step - loss: 646195392.0000 - mae: 19856.7539 - val_loss: 1640339200.0000 - val_mae: 33551.5312\n",
      "Epoch 19/100\n",
      "145/145 [==============================] - 0s 2ms/step - loss: 678453568.0000 - mae: 20443.0977 - val_loss: 1997637120.0000 - val_mae: 37747.8281\n",
      "Epoch 20/100\n",
      "145/145 [==============================] - 0s 2ms/step - loss: 632044032.0000 - mae: 19590.0801 - val_loss: 1710350208.0000 - val_mae: 34452.2812\n",
      "Epoch 21/100\n",
      "145/145 [==============================] - 0s 2ms/step - loss: 628909120.0000 - mae: 19745.8008 - val_loss: 1744804096.0000 - val_mae: 34635.7109\n",
      "Epoch 22/100\n",
      "145/145 [==============================] - 0s 2ms/step - loss: 616411392.0000 - mae: 19648.8164 - val_loss: 1582312704.0000 - val_mae: 32840.1055\n",
      "Epoch 23/100\n",
      "145/145 [==============================] - 0s 2ms/step - loss: 607789376.0000 - mae: 19352.0879 - val_loss: 1660033408.0000 - val_mae: 33757.1406\n",
      "Epoch 24/100\n",
      "145/145 [==============================] - 0s 2ms/step - loss: 548066816.0000 - mae: 18120.4473 - val_loss: 1494696320.0000 - val_mae: 31890.3633\n",
      "Epoch 25/100\n",
      "145/145 [==============================] - 0s 2ms/step - loss: 593341376.0000 - mae: 19135.9590 - val_loss: 1690382336.0000 - val_mae: 34287.6797\n",
      "Epoch 26/100\n",
      "145/145 [==============================] - 0s 2ms/step - loss: 543663232.0000 - mae: 18390.1406 - val_loss: 1443122816.0000 - val_mae: 31273.9473\n",
      "Epoch 27/100\n",
      "145/145 [==============================] - 0s 2ms/step - loss: 561997568.0000 - mae: 18782.6992 - val_loss: 1499526272.0000 - val_mae: 32196.9590\n",
      "Epoch 28/100\n",
      "145/145 [==============================] - 0s 2ms/step - loss: 571561344.0000 - mae: 18991.6953 - val_loss: 1599946496.0000 - val_mae: 33419.4492\n",
      "Epoch 29/100\n",
      "145/145 [==============================] - 0s 2ms/step - loss: 553214080.0000 - mae: 18532.9707 - val_loss: 1387597568.0000 - val_mae: 30922.2559\n",
      "Epoch 30/100\n",
      "145/145 [==============================] - 0s 2ms/step - loss: 572742400.0000 - mae: 19112.9219 - val_loss: 1548220032.0000 - val_mae: 33066.0234\n",
      "Epoch 31/100\n",
      "145/145 [==============================] - 0s 2ms/step - loss: 538209856.0000 - mae: 18227.2109 - val_loss: 1451819776.0000 - val_mae: 31734.6367\n",
      "Epoch 32/100\n",
      "145/145 [==============================] - 0s 2ms/step - loss: 542208000.0000 - mae: 18365.7402 - val_loss: 1462771328.0000 - val_mae: 31894.0039\n",
      "Epoch 33/100\n",
      "145/145 [==============================] - 0s 2ms/step - loss: 522836896.0000 - mae: 18002.0840 - val_loss: 1652875136.0000 - val_mae: 34515.8203\n",
      "Epoch 34/100\n",
      "145/145 [==============================] - 0s 2ms/step - loss: 524447936.0000 - mae: 18046.1465 - val_loss: 1374164992.0000 - val_mae: 30979.7754\n",
      "Epoch 35/100\n",
      "145/145 [==============================] - 0s 2ms/step - loss: 511724992.0000 - mae: 17701.5801 - val_loss: 1523505024.0000 - val_mae: 33025.7266\n",
      "Epoch 36/100\n",
      "145/145 [==============================] - 0s 2ms/step - loss: 528061792.0000 - mae: 18247.3262 - val_loss: 1656369408.0000 - val_mae: 34499.0781\n",
      "Epoch 37/100\n",
      "145/145 [==============================] - 0s 2ms/step - loss: 505788704.0000 - mae: 17871.6309 - val_loss: 1717108480.0000 - val_mae: 35305.8750\n",
      "Epoch 38/100\n",
      "145/145 [==============================] - 0s 2ms/step - loss: 526645536.0000 - mae: 18031.1602 - val_loss: 1404509696.0000 - val_mae: 31607.1035\n",
      "Epoch 39/100\n",
      "145/145 [==============================] - 0s 2ms/step - loss: 540152512.0000 - mae: 18370.1992 - val_loss: 1399373824.0000 - val_mae: 31726.1035\n",
      "Epoch 40/100\n",
      "145/145 [==============================] - 0s 2ms/step - loss: 502203456.0000 - mae: 17442.1621 - val_loss: 1356265984.0000 - val_mae: 31188.0098\n",
      "Epoch 41/100\n",
      "145/145 [==============================] - 0s 2ms/step - loss: 495668096.0000 - mae: 17752.9121 - val_loss: 1559832832.0000 - val_mae: 33723.4414\n",
      "Epoch 42/100\n",
      "145/145 [==============================] - 0s 2ms/step - loss: 529191840.0000 - mae: 18099.0020 - val_loss: 1730680192.0000 - val_mae: 35947.3594\n",
      "Epoch 43/100\n",
      "145/145 [==============================] - 0s 2ms/step - loss: 481497888.0000 - mae: 17324.6895 - val_loss: 1649882240.0000 - val_mae: 34951.0898\n",
      "Epoch 44/100\n",
      "145/145 [==============================] - 0s 2ms/step - loss: 498155904.0000 - mae: 17717.2461 - val_loss: 1599127424.0000 - val_mae: 34060.3555\n",
      "Epoch 45/100\n",
      "145/145 [==============================] - 0s 2ms/step - loss: 482063488.0000 - mae: 17163.3945 - val_loss: 1944942208.0000 - val_mae: 37897.8008\n",
      "Epoch 46/100\n",
      "145/145 [==============================] - 0s 2ms/step - loss: 484547328.0000 - mae: 17480.3730 - val_loss: 1530120832.0000 - val_mae: 33411.5977\n",
      "Epoch 47/100\n",
      "145/145 [==============================] - 0s 2ms/step - loss: 485941440.0000 - mae: 17516.1836 - val_loss: 1371711232.0000 - val_mae: 31129.2500\n",
      "Epoch 48/100\n",
      "145/145 [==============================] - 0s 2ms/step - loss: 479759328.0000 - mae: 17235.1699 - val_loss: 1643173120.0000 - val_mae: 34249.2383\n",
      "Epoch 49/100\n",
      "145/145 [==============================] - 0s 2ms/step - loss: 494465376.0000 - mae: 17306.9062 - val_loss: 1524540160.0000 - val_mae: 33205.3828\n",
      "Epoch 50/100\n",
      "145/145 [==============================] - 0s 2ms/step - loss: 463936992.0000 - mae: 16785.5215 - val_loss: 1452848256.0000 - val_mae: 32566.2773\n",
      "Epoch 51/100\n",
      "145/145 [==============================] - 0s 2ms/step - loss: 480818304.0000 - mae: 17312.1035 - val_loss: 1520611456.0000 - val_mae: 32847.8398\n",
      "Epoch 52/100\n",
      "145/145 [==============================] - 0s 2ms/step - loss: 500308576.0000 - mae: 17644.6367 - val_loss: 1485479936.0000 - val_mae: 32489.2324\n",
      "Epoch 53/100\n",
      "145/145 [==============================] - 0s 2ms/step - loss: 439777568.0000 - mae: 16700.5176 - val_loss: 1587616512.0000 - val_mae: 33884.3438\n",
      "Epoch 54/100\n",
      "145/145 [==============================] - 0s 2ms/step - loss: 490605632.0000 - mae: 17281.7832 - val_loss: 1379815168.0000 - val_mae: 31463.3555\n",
      "Epoch 55/100\n",
      "145/145 [==============================] - 0s 2ms/step - loss: 501399296.0000 - mae: 17673.6797 - val_loss: 1472502272.0000 - val_mae: 32497.0352\n",
      "Epoch 56/100\n",
      "145/145 [==============================] - 0s 2ms/step - loss: 505002464.0000 - mae: 17902.4238 - val_loss: 1627547648.0000 - val_mae: 34175.8828\n",
      "Epoch 57/100\n",
      "145/145 [==============================] - 0s 2ms/step - loss: 458691776.0000 - mae: 16811.1602 - val_loss: 1622206464.0000 - val_mae: 34652.2266\n",
      "Epoch 58/100\n",
      "145/145 [==============================] - 0s 2ms/step - loss: 491666656.0000 - mae: 17196.5332 - val_loss: 1566653056.0000 - val_mae: 33981.2539\n",
      "Epoch 59/100\n",
      "145/145 [==============================] - 0s 2ms/step - loss: 479952000.0000 - mae: 17474.4160 - val_loss: 1776147456.0000 - val_mae: 35763.8359\n",
      "Epoch 60/100\n",
      "145/145 [==============================] - 0s 2ms/step - loss: 484097216.0000 - mae: 17183.6582 - val_loss: 1296342272.0000 - val_mae: 30072.8828\n",
      "Epoch 61/100\n",
      "145/145 [==============================] - 0s 2ms/step - loss: 463086208.0000 - mae: 16811.9199 - val_loss: 1499966848.0000 - val_mae: 32764.0410\n",
      "Epoch 62/100\n",
      "145/145 [==============================] - 0s 2ms/step - loss: 498329600.0000 - mae: 17646.3828 - val_loss: 1769121408.0000 - val_mae: 36055.3594\n",
      "Epoch 63/100\n",
      "145/145 [==============================] - 0s 2ms/step - loss: 452605888.0000 - mae: 16688.1465 - val_loss: 1402619776.0000 - val_mae: 31566.4668\n",
      "Epoch 64/100\n",
      "145/145 [==============================] - 0s 2ms/step - loss: 491460032.0000 - mae: 17619.2402 - val_loss: 1405930368.0000 - val_mae: 31863.2109\n",
      "Epoch 65/100\n",
      "145/145 [==============================] - 0s 2ms/step - loss: 466080736.0000 - mae: 16964.0137 - val_loss: 1479488768.0000 - val_mae: 32559.4355\n",
      "Epoch 66/100\n",
      "145/145 [==============================] - 0s 2ms/step - loss: 414933024.0000 - mae: 15836.0518 - val_loss: 1499544064.0000 - val_mae: 33128.6914\n",
      "Epoch 67/100\n",
      "145/145 [==============================] - 0s 2ms/step - loss: 483170848.0000 - mae: 17070.0156 - val_loss: 1452510976.0000 - val_mae: 32607.6445\n",
      "Epoch 68/100\n",
      "145/145 [==============================] - 0s 2ms/step - loss: 439155840.0000 - mae: 16493.0059 - val_loss: 1520429312.0000 - val_mae: 33324.9688\n",
      "Epoch 69/100\n",
      "145/145 [==============================] - 0s 2ms/step - loss: 435639744.0000 - mae: 16369.4463 - val_loss: 1573204480.0000 - val_mae: 34115.4375\n",
      "Epoch 70/100\n",
      "145/145 [==============================] - 0s 2ms/step - loss: 491096320.0000 - mae: 17644.7773 - val_loss: 1347636096.0000 - val_mae: 31038.3418\n",
      "Epoch 71/100\n",
      "145/145 [==============================] - 0s 2ms/step - loss: 501103040.0000 - mae: 17551.1855 - val_loss: 1548459136.0000 - val_mae: 33390.1367\n",
      "Epoch 72/100\n",
      "145/145 [==============================] - 0s 2ms/step - loss: 434066080.0000 - mae: 16354.0205 - val_loss: 1432813056.0000 - val_mae: 31707.8340\n",
      "Epoch 73/100\n",
      "145/145 [==============================] - 0s 2ms/step - loss: 455606048.0000 - mae: 16575.8047 - val_loss: 1416866176.0000 - val_mae: 31980.6328\n",
      "Epoch 74/100\n",
      "145/145 [==============================] - 0s 2ms/step - loss: 458836800.0000 - mae: 16852.0918 - val_loss: 1446630016.0000 - val_mae: 32240.7402\n",
      "Epoch 75/100\n",
      "145/145 [==============================] - 0s 2ms/step - loss: 485228096.0000 - mae: 17206.1953 - val_loss: 1473629952.0000 - val_mae: 32821.2383\n",
      "Epoch 76/100\n",
      "145/145 [==============================] - 0s 2ms/step - loss: 431411712.0000 - mae: 16485.2656 - val_loss: 1643011840.0000 - val_mae: 34650.1055\n",
      "Epoch 77/100\n",
      "145/145 [==============================] - 0s 2ms/step - loss: 466278848.0000 - mae: 16999.8926 - val_loss: 1628476416.0000 - val_mae: 34471.7617\n",
      "Epoch 78/100\n",
      "145/145 [==============================] - 0s 2ms/step - loss: 443415104.0000 - mae: 16472.4727 - val_loss: 1463986432.0000 - val_mae: 32468.2637\n",
      "Epoch 79/100\n",
      "145/145 [==============================] - 0s 2ms/step - loss: 466459104.0000 - mae: 16779.0020 - val_loss: 1573584000.0000 - val_mae: 33972.6719\n",
      "Epoch 80/100\n",
      "145/145 [==============================] - 0s 2ms/step - loss: 441626848.0000 - mae: 16484.0742 - val_loss: 1219556352.0000 - val_mae: 28834.0449\n",
      "Epoch 81/100\n",
      "145/145 [==============================] - 0s 2ms/step - loss: 463213856.0000 - mae: 17004.9922 - val_loss: 1340510464.0000 - val_mae: 30690.5645\n",
      "Epoch 82/100\n",
      "145/145 [==============================] - 0s 2ms/step - loss: 468620128.0000 - mae: 17053.6348 - val_loss: 1690488704.0000 - val_mae: 35236.9492\n",
      "Epoch 83/100\n",
      "145/145 [==============================] - 0s 2ms/step - loss: 460360320.0000 - mae: 16843.3867 - val_loss: 1636227584.0000 - val_mae: 34440.5234\n",
      "Epoch 84/100\n",
      "145/145 [==============================] - 0s 2ms/step - loss: 446527552.0000 - mae: 16825.3945 - val_loss: 1578075648.0000 - val_mae: 33917.8164\n",
      "Epoch 85/100\n",
      "145/145 [==============================] - 0s 2ms/step - loss: 449612768.0000 - mae: 16368.5381 - val_loss: 1446350464.0000 - val_mae: 32440.3984\n",
      "Epoch 86/100\n",
      "145/145 [==============================] - 0s 2ms/step - loss: 467410464.0000 - mae: 16900.4824 - val_loss: 1379126784.0000 - val_mae: 31214.6914\n",
      "Epoch 87/100\n",
      "145/145 [==============================] - 0s 2ms/step - loss: 467492032.0000 - mae: 16916.1797 - val_loss: 1320309632.0000 - val_mae: 30603.1035\n",
      "Epoch 88/100\n",
      "145/145 [==============================] - 0s 2ms/step - loss: 428244800.0000 - mae: 16215.4814 - val_loss: 1416191744.0000 - val_mae: 31962.5820\n",
      "Epoch 89/100\n",
      "145/145 [==============================] - 0s 2ms/step - loss: 479109824.0000 - mae: 17367.1270 - val_loss: 1603899648.0000 - val_mae: 34361.1836\n",
      "Epoch 90/100\n",
      "145/145 [==============================] - 0s 2ms/step - loss: 459541536.0000 - mae: 17000.9375 - val_loss: 1864016128.0000 - val_mae: 37082.4570\n",
      "Epoch 91/100\n",
      "145/145 [==============================] - 0s 2ms/step - loss: 427144864.0000 - mae: 16199.5488 - val_loss: 1606777728.0000 - val_mae: 34411.8008\n",
      "Epoch 92/100\n",
      "145/145 [==============================] - 0s 2ms/step - loss: 452827232.0000 - mae: 16699.1855 - val_loss: 1470106880.0000 - val_mae: 32511.3184\n",
      "Epoch 93/100\n",
      "145/145 [==============================] - 0s 2ms/step - loss: 448998720.0000 - mae: 16782.4785 - val_loss: 1436224896.0000 - val_mae: 32129.7129\n",
      "Epoch 94/100\n",
      "145/145 [==============================] - 0s 2ms/step - loss: 474872704.0000 - mae: 17075.5371 - val_loss: 1626973824.0000 - val_mae: 34775.7773\n",
      "Epoch 95/100\n",
      "145/145 [==============================] - 0s 2ms/step - loss: 453024320.0000 - mae: 16617.2832 - val_loss: 1498059648.0000 - val_mae: 33122.3789\n",
      "Epoch 96/100\n",
      "145/145 [==============================] - 0s 2ms/step - loss: 443477792.0000 - mae: 16522.2363 - val_loss: 1499891072.0000 - val_mae: 33124.1680\n",
      "Epoch 97/100\n",
      "145/145 [==============================] - 0s 2ms/step - loss: 413432576.0000 - mae: 15947.9912 - val_loss: 1574708096.0000 - val_mae: 34002.8086\n",
      "Epoch 98/100\n",
      "145/145 [==============================] - 0s 2ms/step - loss: 453584000.0000 - mae: 16860.9668 - val_loss: 1491128448.0000 - val_mae: 33046.7578\n",
      "Epoch 99/100\n",
      "145/145 [==============================] - 0s 2ms/step - loss: 428947744.0000 - mae: 16310.6191 - val_loss: 1774254464.0000 - val_mae: 36158.8438\n",
      "Epoch 100/100\n",
      "145/145 [==============================] - 0s 2ms/step - loss: 431383456.0000 - mae: 16242.8809 - val_loss: 1291137152.0000 - val_mae: 30364.8027\n"
     ]
    }
   ],
   "source": [
    "nt_res = model.fit(x_dum_scaler, y, batch_size=8, epochs=100, validation_split=0.2, workers=-1, verbose=1)"
   ]
  },
  {
   "cell_type": "code",
   "execution_count": 40,
   "id": "bed04034",
   "metadata": {},
   "outputs": [
    {
     "data": {
      "image/png": "[encoded data removed]",
      "text/plain": [
       "<Figure size 432x288 with 1 Axes>"
      ]
     },
     "metadata": {
      "needs_background": "light"
     },
     "output_type": "display_data"
    }
   ],
   "source": [
    "loss = nt_res.history['loss']\n",
    "val_loss = nt_res.history['val_loss']\n",
    "epochs = range(1, len(loss)+1)\n",
    "\n",
    "# map\n",
    "plt.plot(epochs, loss, 'y', label='trainning loss')\n",
    "plt.plot(epochs, val_loss, 'r', label='validation loss')\n",
    "plt.title('Trainning and validation loss')\n",
    "plt.xlabel('Epochs')\n",
    "plt.ylabel('Loss')\n",
    "plt.legend()\n",
    "plt.show()"
   ]
  },
  {
   "cell_type": "code",
   "execution_count": 41,
   "id": "86778f47",
   "metadata": {},
   "outputs": [
    {
     "data": {
      "image/png": "[encoded data removed]",
      "text/plain": [
       "<Figure size 432x288 with 1 Axes>"
      ]
     },
     "metadata": {
      "needs_background": "light"
     },
     "output_type": "display_data"
    }
   ],
   "source": [
    "mae = nt_res.history['mae']\n",
    "val_mae = nt_res.history['val_mae']\n",
    "epochs = range(1, len(loss)+1)\n",
    "\n",
    "# map\n",
    "plt.plot(epochs, mae, 'y', label='trainning mae')\n",
    "plt.plot(epochs, val_mae, 'r', label='validation mae')\n",
    "plt.title('Trainning and validation MAE')\n",
    "plt.xlabel('Epochs')\n",
    "plt.ylabel('MAE')\n",
    "plt.legend()\n",
    "plt.show()"
   ]
  },
  {
   "cell_type": "code",
   "execution_count": 42,
   "id": "3ca6ef3e",
   "metadata": {},
   "outputs": [
    {
     "name": "stdout",
     "output_type": "stream",
     "text": [
      "46/46 [==============================] - 0s 1ms/step - loss: 377239840.0000 - mae: 13500.0605\n"
     ]
    }
   ],
   "source": [
    "mse_neural, mae_neural = model.evaluate(x_dum_scaler, y)"
   ]
  },
  {
   "cell_type": "markdown",
   "id": "da139360",
   "metadata": {},
   "source": [
    "# Fine tunning the best model"
   ]
  },
  {
   "cell_type": "code",
   "execution_count": 43,
   "id": "18bb87e8",
   "metadata": {},
   "outputs": [],
   "source": [
    "svr_tune = RandomizedSearchCV(estimator=SVR(),n_iter=10, random_state=135, cv=10, n_jobs=-1, scoring='neg_mean_absolute_error', param_distributions={\n",
    "    'kernel':['linear','rbf'],\n",
    "    'gamma': ['scale','auto'],\n",
    "    'C': [1, 5, 10, 15, 20],\n",
    "    'shrinking': [True, False],\n",
    "    'epsilon':[0.1, 0.2, 0.3],                 \n",
    "})"
   ]
  },
  {
   "cell_type": "code",
   "execution_count": 44,
   "id": "81e87c32",
   "metadata": {},
   "outputs": [
    {
     "name": "stderr",
     "output_type": "stream",
     "text": [
      "<frozen importlib._bootstrap>:219: RuntimeWarning: scipy._lib.messagestream.MessageStream size changed, may indicate binary incompatibility. Expected 56 from C header, got 64 from PyObject\n",
      "/opt/anaconda3/envs/salary_pred/lib/python3.8/site-packages/sklearn/linear_model/_coordinate_descent.py:647: ConvergenceWarning: Objective did not converge. You might want to increase the number of iterations, check the scale of the features or consider increasing regularisation. Duality gap: 1.387e+09, tolerance: 8.624e+07\n",
      "  model = cd_fast.enet_coordinate_descent(\n",
      "/opt/anaconda3/envs/salary_pred/lib/python3.8/site-packages/sklearn/linear_model/_coordinate_descent.py:647: ConvergenceWarning: Objective did not converge. You might want to increase the number of iterations, check the scale of the features or consider increasing regularisation. Duality gap: 8.121e+09, tolerance: 9.205e+07\n",
      "  model = cd_fast.enet_coordinate_descent(\n",
      "/opt/anaconda3/envs/salary_pred/lib/python3.8/site-packages/sklearn/linear_model/_coordinate_descent.py:647: ConvergenceWarning: Objective did not converge. You might want to increase the number of iterations, check the scale of the features or consider increasing regularisation. Duality gap: 1.016e+08, tolerance: 6.353e+07\n",
      "  model = cd_fast.enet_coordinate_descent(\n",
      "<frozen importlib._bootstrap>:219: RuntimeWarning: scipy._lib.messagestream.MessageStream size changed, may indicate binary incompatibility. Expected 56 from C header, got 64 from PyObject\n",
      "/opt/anaconda3/envs/salary_pred/lib/python3.8/site-packages/sklearn/linear_model/_coordinate_descent.py:647: ConvergenceWarning: Objective did not converge. You might want to increase the number of iterations, check the scale of the features or consider increasing regularisation. Duality gap: 7.973e+09, tolerance: 8.770e+07\n",
      "  model = cd_fast.enet_coordinate_descent(\n",
      "/opt/anaconda3/envs/salary_pred/lib/python3.8/site-packages/sklearn/linear_model/_coordinate_descent.py:647: ConvergenceWarning: Objective did not converge. You might want to increase the number of iterations, check the scale of the features or consider increasing regularisation. Duality gap: 6.330e+09, tolerance: 9.189e+07\n",
      "  model = cd_fast.enet_coordinate_descent(\n",
      "<frozen importlib._bootstrap>:219: RuntimeWarning: scipy._lib.messagestream.MessageStream size changed, may indicate binary incompatibility. Expected 56 from C header, got 64 from PyObject\n",
      "/opt/anaconda3/envs/salary_pred/lib/python3.8/site-packages/sklearn/linear_model/_coordinate_descent.py:647: ConvergenceWarning: Objective did not converge. You might want to increase the number of iterations, check the scale of the features or consider increasing regularisation. Duality gap: 3.104e+09, tolerance: 9.256e+07\n",
      "  model = cd_fast.enet_coordinate_descent(\n",
      "/opt/anaconda3/envs/salary_pred/lib/python3.8/site-packages/sklearn/linear_model/_coordinate_descent.py:647: ConvergenceWarning: Objective did not converge. You might want to increase the number of iterations, check the scale of the features or consider increasing regularisation. Duality gap: 1.165e+08, tolerance: 8.610e+07\n",
      "  model = cd_fast.enet_coordinate_descent(\n",
      "/opt/anaconda3/envs/salary_pred/lib/python3.8/site-packages/sklearn/linear_model/_coordinate_descent.py:647: ConvergenceWarning: Objective did not converge. You might want to increase the number of iterations, check the scale of the features or consider increasing regularisation. Duality gap: 2.729e+09, tolerance: 8.703e+07\n",
      "  model = cd_fast.enet_coordinate_descent(\n",
      "<frozen importlib._bootstrap>:219: RuntimeWarning: scipy._lib.messagestream.MessageStream size changed, may indicate binary incompatibility. Expected 56 from C header, got 64 from PyObject\n",
      "/opt/anaconda3/envs/salary_pred/lib/python3.8/site-packages/sklearn/linear_model/_coordinate_descent.py:647: ConvergenceWarning: Objective did not converge. You might want to increase the number of iterations, check the scale of the features or consider increasing regularisation. Duality gap: 2.022e+10, tolerance: 9.193e+07\n",
      "  model = cd_fast.enet_coordinate_descent(\n",
      "/opt/anaconda3/envs/salary_pred/lib/python3.8/site-packages/sklearn/linear_model/_coordinate_descent.py:647: ConvergenceWarning: Objective did not converge. You might want to increase the number of iterations, check the scale of the features or consider increasing regularisation. Duality gap: 3.124e+09, tolerance: 7.792e+07\n",
      "  model = cd_fast.enet_coordinate_descent(\n"
     ]
    },
    {
     "data": {
      "text/plain": [
       "RandomizedSearchCV(cv=10, estimator=SVR(), n_jobs=-1,\n",
       "                   param_distributions={'C': [1, 5, 10, 15, 20],\n",
       "                                        'epsilon': [0.1, 0.2, 0.3],\n",
       "                                        'gamma': ['scale', 'auto'],\n",
       "                                        'kernel': ['linear', 'rbf'],\n",
       "                                        'shrinking': [True, False]},\n",
       "                   random_state=135, scoring='neg_mean_absolute_error')"
      ]
     },
     "execution_count": 44,
     "metadata": {},
     "output_type": "execute_result"
    }
   ],
   "source": [
    "svr_tune.fit(x_dum_scaler, y.reshape(-1,))"
   ]
  },
  {
   "cell_type": "code",
   "execution_count": 45,
   "id": "a8bb1cd4",
   "metadata": {},
   "outputs": [
    {
     "data": {
      "text/plain": [
       "{'shrinking': True, 'kernel': 'rbf', 'gamma': 'scale', 'epsilon': 0.2, 'C': 10}"
      ]
     },
     "execution_count": 45,
     "metadata": {},
     "output_type": "execute_result"
    }
   ],
   "source": [
    "svr_tune.best_params_"
   ]
  },
  {
   "cell_type": "code",
   "execution_count": 46,
   "id": "e4c0e03d",
   "metadata": {},
   "outputs": [],
   "source": [
    "results= pd.DataFrame(svr_tune.cv_results_)"
   ]
  },
  {
   "cell_type": "code",
   "execution_count": 47,
   "id": "4494d5fd",
   "metadata": {},
   "outputs": [
    {
     "data": {
      "text/html": [
       "<div>\n",
       "<style scoped>\n",
       "    .dataframe tbody tr th:only-of-type {\n",
       "        vertical-align: middle;\n",
       "    }\n",
       "\n",
       "    .dataframe tbody tr th {\n",
       "        vertical-align: top;\n",
       "    }\n",
       "\n",
       "    .dataframe thead th {\n",
       "        text-align: right;\n",
       "    }\n",
       "</style>\n",
       "<table border=\"1\" class=\"dataframe\">\n",
       "  <thead>\n",
       "    <tr style=\"text-align: right;\">\n",
       "      <th></th>\n",
       "      <th>mean_test_score</th>\n",
       "      <th>std_test_score</th>\n",
       "      <th>rank_test_score</th>\n",
       "    </tr>\n",
       "  </thead>\n",
       "  <tbody>\n",
       "    <tr>\n",
       "      <th>7</th>\n",
       "      <td>-19958.206139</td>\n",
       "      <td>9465.445925</td>\n",
       "      <td>1</td>\n",
       "    </tr>\n",
       "    <tr>\n",
       "      <th>5</th>\n",
       "      <td>-19963.936152</td>\n",
       "      <td>9485.710953</td>\n",
       "      <td>2</td>\n",
       "    </tr>\n",
       "    <tr>\n",
       "      <th>8</th>\n",
       "      <td>-20004.567416</td>\n",
       "      <td>9344.857164</td>\n",
       "      <td>3</td>\n",
       "    </tr>\n",
       "    <tr>\n",
       "      <th>9</th>\n",
       "      <td>-20104.071183</td>\n",
       "      <td>9021.785534</td>\n",
       "      <td>4</td>\n",
       "    </tr>\n",
       "    <tr>\n",
       "      <th>2</th>\n",
       "      <td>-20104.071183</td>\n",
       "      <td>9021.785534</td>\n",
       "      <td>5</td>\n",
       "    </tr>\n",
       "    <tr>\n",
       "      <th>3</th>\n",
       "      <td>-20118.829095</td>\n",
       "      <td>8810.737152</td>\n",
       "      <td>6</td>\n",
       "    </tr>\n",
       "    <tr>\n",
       "      <th>1</th>\n",
       "      <td>-20118.839700</td>\n",
       "      <td>8810.740987</td>\n",
       "      <td>7</td>\n",
       "    </tr>\n",
       "    <tr>\n",
       "      <th>6</th>\n",
       "      <td>-20118.850355</td>\n",
       "      <td>8810.744850</td>\n",
       "      <td>8</td>\n",
       "    </tr>\n",
       "    <tr>\n",
       "      <th>4</th>\n",
       "      <td>-20148.155617</td>\n",
       "      <td>8290.683375</td>\n",
       "      <td>9</td>\n",
       "    </tr>\n",
       "    <tr>\n",
       "      <th>0</th>\n",
       "      <td>-20156.405087</td>\n",
       "      <td>8517.239876</td>\n",
       "      <td>10</td>\n",
       "    </tr>\n",
       "  </tbody>\n",
       "</table>\n",
       "</div>"
      ],
      "text/plain": [
       "   mean_test_score  std_test_score  rank_test_score\n",
       "7    -19958.206139     9465.445925                1\n",
       "5    -19963.936152     9485.710953                2\n",
       "8    -20004.567416     9344.857164                3\n",
       "9    -20104.071183     9021.785534                4\n",
       "2    -20104.071183     9021.785534                5\n",
       "3    -20118.829095     8810.737152                6\n",
       "1    -20118.839700     8810.740987                7\n",
       "6    -20118.850355     8810.744850                8\n",
       "4    -20148.155617     8290.683375                9\n",
       "0    -20156.405087     8517.239876               10"
      ]
     },
     "execution_count": 47,
     "metadata": {},
     "output_type": "execute_result"
    }
   ],
   "source": [
    "results[['mean_test_score','std_test_score','rank_test_score']].sort_values(by='rank_test_score', axis=0)"
   ]
  },
  {
   "cell_type": "markdown",
   "id": "cf477521",
   "metadata": {},
   "source": [
    "## Split database between train/test"
   ]
  },
  {
   "cell_type": "code",
   "execution_count": 48,
   "id": "17d606e0",
   "metadata": {},
   "outputs": [],
   "source": [
    "(X_train, X_test, y_train, y_test) = train_test_split(x_dum, y, test_size=0.2, random_state=135)"
   ]
  },
  {
   "cell_type": "code",
   "execution_count": 49,
   "id": "abbb9b0f",
   "metadata": {},
   "outputs": [
    {
     "data": {
      "text/plain": [
       "((1153, 132), (1153,), (289, 132), (289,))"
      ]
     },
     "execution_count": 49,
     "metadata": {},
     "output_type": "execute_result"
    }
   ],
   "source": [
    "(X_train.shape, y_train.shape, X_test.shape, y_test.shape)"
   ]
  },
  {
   "cell_type": "code",
   "execution_count": 50,
   "id": "8c900c81",
   "metadata": {},
   "outputs": [],
   "source": [
    "# transforming features\n",
    "scaler = StandardScaler()\n",
    "scaler.fit(X_train)\n",
    "X_train_scaler = scaler.transform(X_train)\n",
    "X_test_scaler = scaler.transform(X_test)"
   ]
  },
  {
   "cell_type": "markdown",
   "id": "8503af99",
   "metadata": {},
   "source": [
    "## Trainning the best 2 models applying the best hyper paramaters"
   ]
  },
  {
   "cell_type": "code",
   "execution_count": 51,
   "id": "71534db1",
   "metadata": {},
   "outputs": [],
   "source": [
    "# SVR model"
   ]
  },
  {
   "cell_type": "code",
   "execution_count": 52,
   "id": "35c272a8",
   "metadata": {},
   "outputs": [],
   "source": [
    "svr_best = SVR(shrinking=True, kernel='rbf', gamma='scale', epsilon=0.2, C=10)"
   ]
  },
  {
   "cell_type": "code",
   "execution_count": 53,
   "id": "f828bf50",
   "metadata": {},
   "outputs": [
    {
     "data": {
      "text/plain": [
       "SVR(C=10, epsilon=0.2)"
      ]
     },
     "execution_count": 53,
     "metadata": {},
     "output_type": "execute_result"
    }
   ],
   "source": [
    "svr_best.fit(X_train_scaler, y_train.reshape(-1, ))"
   ]
  },
  {
   "cell_type": "code",
   "execution_count": 54,
   "id": "efb7c110",
   "metadata": {},
   "outputs": [],
   "source": [
    "# neural network model"
   ]
  },
  {
   "cell_type": "code",
   "execution_count": 55,
   "id": "fcbc2c95",
   "metadata": {},
   "outputs": [],
   "source": [
    "result = model.fit(X_train_scaler, y, batch_size=8, epochs=100, validation_split=0.2, workers=-1, verbose=0)"
   ]
  },
  {
   "cell_type": "markdown",
   "id": "fe8cbb82",
   "metadata": {},
   "source": [
    "## Evaluation"
   ]
  },
  {
   "cell_type": "markdown",
   "id": "d9e9845f",
   "metadata": {},
   "source": [
    "### SVR"
   ]
  },
  {
   "cell_type": "code",
   "execution_count": 56,
   "id": "aaccb385",
   "metadata": {},
   "outputs": [
    {
     "name": "stdout",
     "output_type": "stream",
     "text": [
      "SRV model: \n",
      "MAE train=19,448 \n",
      "MAE test=20,133\n"
     ]
    }
   ],
   "source": [
    "# Train\n",
    "y_pred = svr_best.predict(X_train_scaler)\n",
    "train_eval = metrics.mean_absolute_error(y_train, y_pred)\n",
    "\n",
    "# Test \n",
    "y_pred = svr_best.predict(X_test_scaler)\n",
    "test_eval = metrics.mean_absolute_error(y_test, y_pred)\n",
    "\n",
    "print('SRV model: \\nMAE train={:,.0f}'.format(train_eval), '\\nMAE test={:,.0f}'.format(test_eval))"
   ]
  },
  {
   "cell_type": "code",
   "execution_count": 57,
   "id": "65b4f085",
   "metadata": {},
   "outputs": [
    {
     "name": "stdout",
     "output_type": "stream",
     "text": [
      "SRV model: \n",
      "MAE train=19,448 \n",
      "MAE test=20,133\n"
     ]
    }
   ],
   "source": [
    "# Train\n",
    "y_pred = svr_best.predict(X_train_scaler)\n",
    "train_eval = metrics.mean_absolute_error(y_train, y_pred)\n",
    "\n",
    "# Test \n",
    "y_pred = svr_best.predict(X_test_scaler)\n",
    "test_eval = metrics.mean_absolute_error(y_test, y_pred)\n",
    "\n",
    "print('SRV model: \\nMAE train={:,.0f}'.format(train_eval), '\\nMAE test={:,.0f}'.format(test_eval))"
   ]
  },
  {
   "cell_type": "code",
   "execution_count": 58,
   "id": "97f97598",
   "metadata": {},
   "outputs": [
    {
     "name": "stdout",
     "output_type": "stream",
     "text": [
      "SRV model: \n",
      "RSME train=25,571 \n",
      "RMSE test=26,808\n"
     ]
    }
   ],
   "source": [
    "# Train\n",
    "y_pred = svr_best.predict(X_train_scaler)\n",
    "train_eval = metrics.mean_squared_error(y_train, y_pred, squared=False)\n",
    "\n",
    "# Test \n",
    "y_pred = svr_best.predict(X_test_scaler)\n",
    "test_eval = metrics.mean_squared_error(y_test, y_pred, squared=False)\n",
    "\n",
    "print('SRV model: \\nRSME train={:,.0f}'.format(train_eval), '\\nRMSE test={:,.0f}'.format(test_eval))"
   ]
  },
  {
   "cell_type": "code",
   "execution_count": 59,
   "id": "0261dc3c",
   "metadata": {},
   "outputs": [
    {
     "name": "stdout",
     "output_type": "stream",
     "text": [
      "SRV model: \n",
      "MAPE train=0.19 \n",
      "MAPE test=0.19\n"
     ]
    }
   ],
   "source": [
    "# Train\n",
    "y_pred = svr_best.predict(X_train_scaler)\n",
    "train_eval = metrics.mean_absolute_percentage_error(y_train, y_pred)\n",
    "\n",
    "# Test \n",
    "y_pred = svr_best.predict(X_test_scaler)\n",
    "test_eval = metrics.mean_absolute_percentage_error(y_test, y_pred)\n",
    "\n",
    "print('SRV model: \\nMAPE train={:,.2f}'.format(train_eval), '\\nMAPE test={:,.2f}'.format(test_eval))"
   ]
  },
  {
   "cell_type": "markdown",
   "id": "76ac2e12",
   "metadata": {},
   "source": [
    "### Neural Network"
   ]
  },
  {
   "cell_type": "code",
   "execution_count": 60,
   "id": "2161c4c9",
   "metadata": {},
   "outputs": [
    {
     "name": "stdout",
     "output_type": "stream",
     "text": [
      "Neural Network model: \n",
      "MAE train=23,205 \n",
      "MAE test=22,017\n"
     ]
    }
   ],
   "source": [
    "# Train\n",
    "y_pred = model.predict(X_train_scaler)\n",
    "train_eval = metrics.mean_absolute_error(y_train, y_pred)\n",
    "\n",
    "# Test \n",
    "y_pred = model.predict(X_test_scaler)\n",
    "test_eval = metrics.mean_absolute_error(y_test, y_pred)\n",
    "\n",
    "print('Neural Network model: \\nMAE train={:,.0f}'.format(train_eval), '\\nMAE test={:,.0f}'.format(test_eval))"
   ]
  },
  {
   "cell_type": "code",
   "execution_count": 61,
   "id": "e2d55c14",
   "metadata": {},
   "outputs": [
    {
     "name": "stdout",
     "output_type": "stream",
     "text": [
      "Neural Network model: \n",
      "RMSE train=30,152 \n",
      "RMSE test=29,647\n"
     ]
    }
   ],
   "source": [
    "# Train\n",
    "y_pred = model.predict(X_train_scaler)\n",
    "train_eval = metrics.mean_squared_error(y_train, y_pred, squared=False)\n",
    "\n",
    "# Test \n",
    "y_pred = model.predict(X_test_scaler)\n",
    "test_eval = metrics.mean_squared_error(y_test, y_pred, squared=False)\n",
    "\n",
    "print('Neural Network model: \\nRMSE train={:,.0f}'.format(train_eval), '\\nRMSE test={:,.0f}'.format(test_eval))"
   ]
  },
  {
   "cell_type": "code",
   "execution_count": 62,
   "id": "ce315c6f",
   "metadata": {},
   "outputs": [
    {
     "name": "stdout",
     "output_type": "stream",
     "text": [
      "SRV model: \n",
      "MAPE train=0.20 \n",
      "MAPE test=0.19\n"
     ]
    },
    {
     "name": "stderr",
     "output_type": "stream",
     "text": [
      "<frozen importlib._bootstrap>:219: RuntimeWarning: scipy._lib.messagestream.MessageStream size changed, may indicate binary incompatibility. Expected 56 from C header, got 64 from PyObject\n",
      "<frozen importlib._bootstrap>:219: RuntimeWarning: scipy._lib.messagestream.MessageStream size changed, may indicate binary incompatibility. Expected 56 from C header, got 64 from PyObject\n",
      "<frozen importlib._bootstrap>:219: RuntimeWarning: scipy._lib.messagestream.MessageStream size changed, may indicate binary incompatibility. Expected 56 from C header, got 64 from PyObject\n",
      "<frozen importlib._bootstrap>:219: RuntimeWarning: scipy._lib.messagestream.MessageStream size changed, may indicate binary incompatibility. Expected 56 from C header, got 64 from PyObject\n",
      "<frozen importlib._bootstrap>:219: RuntimeWarning: scipy._lib.messagestream.MessageStream size changed, may indicate binary incompatibility. Expected 56 from C header, got 64 from PyObject\n",
      "<frozen importlib._bootstrap>:219: RuntimeWarning: scipy._lib.messagestream.MessageStream size changed, may indicate binary incompatibility. Expected 56 from C header, got 64 from PyObject\n",
      "<frozen importlib._bootstrap>:219: RuntimeWarning: scipy._lib.messagestream.MessageStream size changed, may indicate binary incompatibility. Expected 56 from C header, got 64 from PyObject\n",
      "<frozen importlib._bootstrap>:219: RuntimeWarning: scipy._lib.messagestream.MessageStream size changed, may indicate binary incompatibility. Expected 56 from C header, got 64 from PyObject\n",
      "<frozen importlib._bootstrap>:219: RuntimeWarning: scipy._lib.messagestream.MessageStream size changed, may indicate binary incompatibility. Expected 56 from C header, got 64 from PyObject\n",
      "<frozen importlib._bootstrap>:219: RuntimeWarning: scipy._lib.messagestream.MessageStream size changed, may indicate binary incompatibility. Expected 56 from C header, got 64 from PyObject\n",
      "<frozen importlib._bootstrap>:219: RuntimeWarning: scipy._lib.messagestream.MessageStream size changed, may indicate binary incompatibility. Expected 56 from C header, got 64 from PyObject\n",
      "<frozen importlib._bootstrap>:219: RuntimeWarning: scipy._lib.messagestream.MessageStream size changed, may indicate binary incompatibility. Expected 56 from C header, got 64 from PyObject\n"
     ]
    }
   ],
   "source": [
    "# Train\n",
    "y_pred = model.predict(X_train_scaler)\n",
    "train_eval = metrics.mean_absolute_percentage_error(y_train, y_pred)\n",
    "\n",
    "# Test \n",
    "y_pred = model.predict(X_test_scaler)\n",
    "test_eval = metrics.mean_absolute_percentage_error(y_test, y_pred)\n",
    "\n",
    "print('SRV model: \\nMAPE train={:,.2f}'.format(train_eval), '\\nMAPE test={:,.2f}'.format(test_eval))"
   ]
  }
 ],
 "metadata": {
  "kernelspec": {
   "display_name": "Python 3",
   "language": "python",
   "name": "python3"
  },
  "language_info": {
   "codemirror_mode": {
    "name": "ipython",
    "version": 3
   },
   "file_extension": ".py",
   "mimetype": "text/x-python",
   "name": "python",
   "nbconvert_exporter": "python",
   "pygments_lexer": "ipython3",
   "version": "3.8.8"
  }
 },
 "nbformat": 4,
 "nbformat_minor": 5
}
